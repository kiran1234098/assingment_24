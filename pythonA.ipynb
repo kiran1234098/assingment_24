{
 "cells": [
  {
   "cell_type": "markdown",
   "metadata": {},
   "source": [
    "Question 3: - Write a program, which would download the data from the provided link, and then read the data and convert that into properly structured data and return it in Excel format. Note - Write comments wherever necessary explaining the code written.\n",
    "\n",
    "Link - https://raw.githubusercontent.com/Biuni/PokemonGO-Pokedex/master/pokedex.json\n",
    "\n",
    "Data Attributes - id: Identification Number - int num: Number of the\n",
    "\n",
    "● Pokémon in the official Pokédex - int name: Pokémon name -\n",
    "\n",
    "● string img: URL to an image of this Pokémon - string type:\n",
    "\n",
    "● Pokémon type -string height: Pokémon height - float\n",
    "\n",
    "● weight: Pokémon weight - float candy: type of candy used to evolve Pokémon or given\n",
    "\n",
    "● when transferred - string candy_count: the amount of candies required to evolve- int\n",
    "\n",
    "● egg: Number of kilometers to travel to hatch the egg - float spawn_chance:\n",
    "\n",
    "● Percentage of spawn chance (NEW) - float avg_spawns: Number of this pokemon on 10.000 spawns (NEW) - int\n",
    "\n",
    "● spawn_time: Spawns most active at the time on this field. Spawn times are the same for all time zones and are expressed in local time. (NEW) - “minutes: seconds” multipliers: Multiplier of Combat Power (CP) for calculating the CP after evolution See below - list of int weakness: Types of\n",
    "\n",
    "● Pokémon this Pokémon is weak to - list of strings next_evolution: Number and Name of successive evolutions of Pokémon - list of dict prev_evolution: Number and Name of previous evolutions of Pokémon - - list of dict"
   ]
  },
  {
   "cell_type": "code",
   "execution_count": 3,
   "metadata": {},
   "outputs": [
    {
     "name": "stdout",
     "output_type": "stream",
     "text": [
      "Collecting pandas\n",
      "  Downloading pandas-2.0.1-cp38-cp38-manylinux_2_17_x86_64.manylinux2014_x86_64.whl (12.3 MB)\n",
      "\u001b[K     |████████████████████████████████| 12.3 MB 22.6 MB/s eta 0:00:01\n",
      "\u001b[?25hCollecting numpy>=1.20.3; python_version < \"3.10\"\n",
      "  Downloading numpy-1.24.3-cp38-cp38-manylinux_2_17_x86_64.manylinux2014_x86_64.whl (17.3 MB)\n",
      "\u001b[K     |████████████████████████████████| 17.3 MB 22.3 MB/s eta 0:00:01\n",
      "\u001b[?25hRequirement already satisfied: python-dateutil>=2.8.2 in /config/.local/lib/python3.8/site-packages (from pandas) (2.8.2)\n",
      "Collecting pytz>=2020.1\n",
      "  Downloading pytz-2023.3-py2.py3-none-any.whl (502 kB)\n",
      "\u001b[K     |████████████████████████████████| 502 kB 45.7 MB/s eta 0:00:01\n",
      "\u001b[?25hCollecting tzdata>=2022.1\n",
      "  Downloading tzdata-2023.3-py2.py3-none-any.whl (341 kB)\n",
      "\u001b[K     |████████████████████████████████| 341 kB 69.3 MB/s eta 0:00:01\n",
      "\u001b[?25hRequirement already satisfied: six>=1.5 in /config/.local/lib/python3.8/site-packages (from python-dateutil>=2.8.2->pandas) (1.16.0)\n",
      "Installing collected packages: numpy, pytz, tzdata, pandas\n",
      "\u001b[33m  WARNING: The scripts f2py, f2py3 and f2py3.8 are installed in '/config/.local/bin' which is not on PATH.\n",
      "  Consider adding this directory to PATH or, if you prefer to suppress this warning, use --no-warn-script-location.\u001b[0m\n",
      "Successfully installed numpy-1.24.3 pandas-2.0.1 pytz-2023.3 tzdata-2023.3\n",
      "Note: you may need to restart the kernel to use updated packages.\n"
     ]
    }
   ],
   "source": [
    "pip install pandas"
   ]
  },
  {
   "cell_type": "code",
   "execution_count": 5,
   "metadata": {},
   "outputs": [
    {
     "name": "stdout",
     "output_type": "stream",
     "text": [
      "Collecting requests\n",
      "  Downloading requests-2.30.0-py3-none-any.whl (62 kB)\n",
      "\u001b[K     |████████████████████████████████| 62 kB 1.4 MB/s  eta 0:00:01\n",
      "\u001b[?25hCollecting charset-normalizer<4,>=2\n",
      "  Downloading charset_normalizer-3.1.0-cp38-cp38-manylinux_2_17_x86_64.manylinux2014_x86_64.whl (195 kB)\n",
      "\u001b[K     |████████████████████████████████| 195 kB 65.4 MB/s eta 0:00:01\n",
      "\u001b[?25hCollecting urllib3<3,>=1.21.1\n",
      "  Downloading urllib3-2.0.2-py3-none-any.whl (123 kB)\n",
      "\u001b[K     |████████████████████████████████| 123 kB 68.2 MB/s eta 0:00:01\n",
      "\u001b[?25hCollecting idna<4,>=2.5\n",
      "  Downloading idna-3.4-py3-none-any.whl (61 kB)\n",
      "\u001b[K     |████████████████████████████████| 61 kB 194 kB/s  eta 0:00:01\n",
      "\u001b[?25hCollecting certifi>=2017.4.17\n",
      "  Downloading certifi-2023.5.7-py3-none-any.whl (156 kB)\n",
      "\u001b[K     |████████████████████████████████| 156 kB 72.1 MB/s eta 0:00:01\n",
      "\u001b[?25hInstalling collected packages: charset-normalizer, urllib3, idna, certifi, requests\n",
      "\u001b[33m  WARNING: The script normalizer is installed in '/config/.local/bin' which is not on PATH.\n",
      "  Consider adding this directory to PATH or, if you prefer to suppress this warning, use --no-warn-script-location.\u001b[0m\n",
      "Successfully installed certifi-2023.5.7 charset-normalizer-3.1.0 idna-3.4 requests-2.30.0 urllib3-2.0.2\n",
      "Note: you may need to restart the kernel to use updated packages.\n"
     ]
    }
   ],
   "source": [
    "pip install requests"
   ]
  },
  {
   "cell_type": "code",
   "execution_count": 4,
   "metadata": {},
   "outputs": [
    {
     "ename": "ModuleNotFoundError",
     "evalue": "No module named 'requests'",
     "output_type": "error",
     "traceback": [
      "\u001b[0;31m---------------------------------------------------------------------------\u001b[0m",
      "\u001b[0;31mModuleNotFoundError\u001b[0m                       Traceback (most recent call last)",
      "Cell \u001b[0;32mIn[4], line 2\u001b[0m\n\u001b[1;32m      1\u001b[0m \u001b[38;5;28;01mimport\u001b[39;00m \u001b[38;5;21;01mpandas\u001b[39;00m \u001b[38;5;28;01mas\u001b[39;00m \u001b[38;5;21;01mpd\u001b[39;00m\n\u001b[0;32m----> 2\u001b[0m \u001b[38;5;28;01mimport\u001b[39;00m \u001b[38;5;21;01mrequests\u001b[39;00m\n\u001b[1;32m      4\u001b[0m \u001b[38;5;66;03m# Function to download data from the provided link\u001b[39;00m\n\u001b[1;32m      5\u001b[0m \u001b[38;5;28;01mdef\u001b[39;00m \u001b[38;5;21mdownload_data\u001b[39m(url):\n",
      "\u001b[0;31mModuleNotFoundError\u001b[0m: No module named 'requests'"
     ]
    }
   ],
   "source": [
    "import pandas as pd\n",
    "import requests\n",
    "\n",
    "# Function to download data from the provided link\n",
    "def download_data(url):\n",
    "    response = requests.get(url)\n",
    "    data = response.json()\n",
    "    return data\n",
    "\n",
    "# Function to convert data to properly structured format\n",
    "def convert_data(data):\n",
    "    structured_data = []\n",
    "    for pokemon in data['pokemon']:\n",
    "        attributes = {\n",
    "            'id': pokemon['id'],\n",
    "            'num': pokemon['num'],\n",
    "            'name': pokemon['name'],\n",
    "            'img': pokemon['img'],\n",
    "            'type': ', '.join(pokemon['type']),\n",
    "            'height': pokemon['height'],\n",
    "            'weight': pokemon['weight'],\n",
    "            'candy': pokemon.get('candy', ''),\n",
    "            'candy_count': pokemon.get('candy_count', 0),\n",
    "            'egg': pokemon.get('egg', ''),\n",
    "            'spawn_chance': pokemon.get('spawn_chance', 0.0),\n",
    "            'avg_spawns': pokemon.get('avg_spawns', 0),\n",
    "            'spawn_time': pokemon.get('spawn_time', ''),\n",
    "            'multipliers': ', '.join([str(multiplier) for multiplier in pokemon.get('multipliers', []) or []]),\n",
    "            'weakness': ', '.join(pokemon.get('weaknesses', [])),\n",
    "            'next_evolution': ', '.join([evolution['name'] for evolution in pokemon.get('next_evolution', [])]),\n",
    "            'prev_evolution': ', '.join([evolution['name'] for evolution in pokemon.get('prev_evolution', [])])\n",
    "        }\n",
    "        structured_data.append(attributes)\n",
    "    return structured_data\n",
    "\n",
    "\n",
    "# Function to export data to Excel\n",
    "def export_to_excel(data, filename):\n",
    "    df = pd.DataFrame(data)\n",
    "    df.to_excel(filename, index=False)\n",
    "\n",
    "# Main program\n",
    "if __name__ == '__main__':\n",
    "    url = 'https://raw.githubusercontent.com/Biuni/PokemonGO-Pokedex/master/pokedex.json'\n",
    "    filename = 'pokemon_data.xlsx'\n",
    "\n",
    "    # Download data\n",
    "    pokemon_data = download_data(url)\n",
    "\n",
    "    # Convert data to structured format\n",
    "    structured_data = convert_data(pokemon_data)\n",
    "\n",
    "    # Export data to Excel\n",
    "    export_to_excel(structured_data, filename)\n",
    "    print(f\"Data has been exported to {filename} in Excel format.\")\n"
   ]
  },
  {
   "cell_type": "code",
   "execution_count": 6,
   "metadata": {},
   "outputs": [
    {
     "name": "stdout",
     "output_type": "stream",
     "text": [
      "Requirement already satisfied: numpy in /config/.local/lib/python3.8/site-packages (1.24.3)\n",
      "Note: you may need to restart the kernel to use updated packages.\n"
     ]
    }
   ],
   "source": [
    "pip install numpy \n"
   ]
  },
  {
   "cell_type": "code",
   "execution_count": 38,
   "metadata": {},
   "outputs": [
    {
     "name": "stdout",
     "output_type": "stream",
     "text": [
      "          name     id nametype               recclass    mass  fall   \n",
      "0       Aachen      1    Valid                     L5      21  Fell  \\\n",
      "1       Aarhus      2    Valid                     H6     720  Fell   \n",
      "2         Abee      6    Valid                    EH4  107000  Fell   \n",
      "3     Acapulco     10    Valid            Acapulcoite    1914  Fell   \n",
      "4      Achiras    370    Valid                     L6     780  Fell   \n",
      "..         ...    ...      ...                    ...     ...   ...   \n",
      "995   Tirupati  24009    Valid                     H6     230  Fell   \n",
      "996    Tissint  54823    Valid  Martian (shergottite)    7000  Fell   \n",
      "997      Tjabe  24011    Valid                     H6   20000  Fell   \n",
      "998   Tjerebon  24012    Valid                     L5   16500  Fell   \n",
      "999  Tomakovka  24019    Valid                    LL6     600  Fell   \n",
      "\n",
      "                        year      reclat      reclong   \n",
      "0    1880-01-01T00:00:00.000   50.775000     6.083330  \\\n",
      "1    1951-01-01T00:00:00.000   56.183330    10.233330   \n",
      "2    1952-01-01T00:00:00.000   54.216670  -113.000000   \n",
      "3    1976-01-01T00:00:00.000   16.883330   -99.900000   \n",
      "4    1902-01-01T00:00:00.000  -33.166670   -64.950000   \n",
      "..                       ...         ...          ...   \n",
      "995  1934-01-01T00:00:00.000   13.633330    79.416670   \n",
      "996  2011-01-01T00:00:00.000   29.481950    -7.611230   \n",
      "997  1869-01-01T00:00:00.000   -7.083330   111.533330   \n",
      "998  1922-01-01T00:00:00.000   -6.666670   106.583330   \n",
      "999  1905-01-01T00:00:00.000   47.850000    34.766670   \n",
      "\n",
      "                                           geolocation   \n",
      "0    {'type': 'Point', 'coordinates': [6.08333, 50....  \\\n",
      "1    {'type': 'Point', 'coordinates': [10.23333, 56...   \n",
      "2    {'type': 'Point', 'coordinates': [-113, 54.216...   \n",
      "3    {'type': 'Point', 'coordinates': [-99.9, 16.88...   \n",
      "4    {'type': 'Point', 'coordinates': [-64.95, -33....   \n",
      "..                                                 ...   \n",
      "995  {'type': 'Point', 'coordinates': [79.41667, 13...   \n",
      "996  {'type': 'Point', 'coordinates': [-7.61123, 29...   \n",
      "997  {'type': 'Point', 'coordinates': [111.53333, -...   \n",
      "998  {'type': 'Point', 'coordinates': [106.58333, -...   \n",
      "999  {'type': 'Point', 'coordinates': [34.76667, 47...   \n",
      "\n",
      "    :@computed_region_cbhk_fwbd :@computed_region_nnqa_25f4  \n",
      "0                           NaN                         NaN  \n",
      "1                           NaN                         NaN  \n",
      "2                           NaN                         NaN  \n",
      "3                           NaN                         NaN  \n",
      "4                           NaN                         NaN  \n",
      "..                          ...                         ...  \n",
      "995                         NaN                         NaN  \n",
      "996                         NaN                         NaN  \n",
      "997                         NaN                         NaN  \n",
      "998                         NaN                         NaN  \n",
      "999                         NaN                         NaN  \n",
      "\n",
      "[1000 rows x 12 columns]\n"
     ]
    }
   ],
   "source": [
    "import pandas as pd\n",
    "import requests\n",
    "import numpy as np\n",
    "\n",
    "# Assuming you have the URL of the JSON data\n",
    "url = 'https://data.nasa.gov/resource/y77d-th95.json'\n",
    "\n",
    "response = requests.get(url)\n",
    "data1 = response.json()\n",
    "# Read JSON data into a DataFrame\n",
    "data = pd.DataFrame(data1)\n",
    "\n",
    "\n",
    "\n",
    "# Display the new DataFrame\n",
    "print(data)\n",
    "\n"
   ]
  },
  {
   "cell_type": "code",
   "execution_count": 12,
   "metadata": {},
   "outputs": [
    {
     "data": {
      "text/plain": [
       "Index(['name', 'id', 'nametype', 'recclass', 'mass', 'fall', 'year', 'reclat',\n",
       "       'reclong', 'geolocation', ':@computed_region_cbhk_fwbd',\n",
       "       ':@computed_region_nnqa_25f4'],\n",
       "      dtype='object')"
      ]
     },
     "execution_count": 12,
     "metadata": {},
     "output_type": "execute_result"
    }
   ],
   "source": [
    "data.columns"
   ]
  },
  {
   "cell_type": "code",
   "execution_count": 39,
   "metadata": {},
   "outputs": [],
   "source": [
    "# Access the 'geolocation' column\n",
    "geolocation_column = data['geolocation']\n",
    "point_coordinates = []\n",
    "\n",
    "# Check if the value is a dictionary and if the 'type' is 'Point'\n",
    "for value in geolocation_column:\n",
    "    if isinstance(value, dict) and value.get('type') == 'Point':\n",
    "        point_coordinates.append(value['coordinates'])\n",
    "    else:\n",
    "        point_coordinates.append(np.nan)\n",
    "data['point coordinates'] = point_coordinates\n",
    "# Create a new DataFrame with the selected column\n",
    "#data = pd.DataFrame({'point_coordinates': point_coordinates})\n"
   ]
  },
  {
   "cell_type": "code",
   "execution_count": 23,
   "metadata": {},
   "outputs": [
    {
     "data": {
      "text/html": [
       "<div>\n",
       "<style scoped>\n",
       "    .dataframe tbody tr th:only-of-type {\n",
       "        vertical-align: middle;\n",
       "    }\n",
       "\n",
       "    .dataframe tbody tr th {\n",
       "        vertical-align: top;\n",
       "    }\n",
       "\n",
       "    .dataframe thead th {\n",
       "        text-align: right;\n",
       "    }\n",
       "</style>\n",
       "<table border=\"1\" class=\"dataframe\">\n",
       "  <thead>\n",
       "    <tr style=\"text-align: right;\">\n",
       "      <th></th>\n",
       "      <th>name</th>\n",
       "      <th>id</th>\n",
       "      <th>nametype</th>\n",
       "      <th>recclass</th>\n",
       "      <th>mass</th>\n",
       "      <th>fall</th>\n",
       "      <th>year</th>\n",
       "      <th>reclat</th>\n",
       "      <th>reclong</th>\n",
       "      <th>geolocation</th>\n",
       "      <th>:@computed_region_cbhk_fwbd</th>\n",
       "      <th>:@computed_region_nnqa_25f4</th>\n",
       "      <th>point coordinates</th>\n",
       "    </tr>\n",
       "  </thead>\n",
       "  <tbody>\n",
       "    <tr>\n",
       "      <th>0</th>\n",
       "      <td>Aachen</td>\n",
       "      <td>1</td>\n",
       "      <td>Valid</td>\n",
       "      <td>L5</td>\n",
       "      <td>21</td>\n",
       "      <td>Fell</td>\n",
       "      <td>1880-01-01T00:00:00.000</td>\n",
       "      <td>50.775000</td>\n",
       "      <td>6.083330</td>\n",
       "      <td>{'type': 'Point', 'coordinates': [6.08333, 50....</td>\n",
       "      <td>NaN</td>\n",
       "      <td>NaN</td>\n",
       "      <td>[6.08333, 50.775]</td>\n",
       "    </tr>\n",
       "    <tr>\n",
       "      <th>1</th>\n",
       "      <td>Aarhus</td>\n",
       "      <td>2</td>\n",
       "      <td>Valid</td>\n",
       "      <td>H6</td>\n",
       "      <td>720</td>\n",
       "      <td>Fell</td>\n",
       "      <td>1951-01-01T00:00:00.000</td>\n",
       "      <td>56.183330</td>\n",
       "      <td>10.233330</td>\n",
       "      <td>{'type': 'Point', 'coordinates': [10.23333, 56...</td>\n",
       "      <td>NaN</td>\n",
       "      <td>NaN</td>\n",
       "      <td>[10.23333, 56.18333]</td>\n",
       "    </tr>\n",
       "    <tr>\n",
       "      <th>2</th>\n",
       "      <td>Abee</td>\n",
       "      <td>6</td>\n",
       "      <td>Valid</td>\n",
       "      <td>EH4</td>\n",
       "      <td>107000</td>\n",
       "      <td>Fell</td>\n",
       "      <td>1952-01-01T00:00:00.000</td>\n",
       "      <td>54.216670</td>\n",
       "      <td>-113.000000</td>\n",
       "      <td>{'type': 'Point', 'coordinates': [-113, 54.216...</td>\n",
       "      <td>NaN</td>\n",
       "      <td>NaN</td>\n",
       "      <td>[-113, 54.21667]</td>\n",
       "    </tr>\n",
       "  </tbody>\n",
       "</table>\n",
       "</div>"
      ],
      "text/plain": [
       "     name id nametype recclass    mass  fall                     year   \n",
       "0  Aachen  1    Valid       L5      21  Fell  1880-01-01T00:00:00.000  \\\n",
       "1  Aarhus  2    Valid       H6     720  Fell  1951-01-01T00:00:00.000   \n",
       "2    Abee  6    Valid      EH4  107000  Fell  1952-01-01T00:00:00.000   \n",
       "\n",
       "      reclat      reclong                                        geolocation   \n",
       "0  50.775000     6.083330  {'type': 'Point', 'coordinates': [6.08333, 50....  \\\n",
       "1  56.183330    10.233330  {'type': 'Point', 'coordinates': [10.23333, 56...   \n",
       "2  54.216670  -113.000000  {'type': 'Point', 'coordinates': [-113, 54.216...   \n",
       "\n",
       "  :@computed_region_cbhk_fwbd :@computed_region_nnqa_25f4   \n",
       "0                         NaN                         NaN  \\\n",
       "1                         NaN                         NaN   \n",
       "2                         NaN                         NaN   \n",
       "\n",
       "      point coordinates  \n",
       "0     [6.08333, 50.775]  \n",
       "1  [10.23333, 56.18333]  \n",
       "2      [-113, 54.21667]  "
      ]
     },
     "execution_count": 23,
     "metadata": {},
     "output_type": "execute_result"
    }
   ],
   "source": [
    "data.head(3)"
   ]
  },
  {
   "cell_type": "code",
   "execution_count": 40,
   "metadata": {},
   "outputs": [],
   "source": [
    " data=data.drop([':@computed_region_cbhk_fwbd',':@computed_region_nnqa_25f4','geolocation'],axis=1)"
   ]
  },
  {
   "cell_type": "code",
   "execution_count": 25,
   "metadata": {},
   "outputs": [
    {
     "data": {
      "text/html": [
       "<div>\n",
       "<style scoped>\n",
       "    .dataframe tbody tr th:only-of-type {\n",
       "        vertical-align: middle;\n",
       "    }\n",
       "\n",
       "    .dataframe tbody tr th {\n",
       "        vertical-align: top;\n",
       "    }\n",
       "\n",
       "    .dataframe thead th {\n",
       "        text-align: right;\n",
       "    }\n",
       "</style>\n",
       "<table border=\"1\" class=\"dataframe\">\n",
       "  <thead>\n",
       "    <tr style=\"text-align: right;\">\n",
       "      <th></th>\n",
       "      <th>name</th>\n",
       "      <th>id</th>\n",
       "      <th>nametype</th>\n",
       "      <th>recclass</th>\n",
       "      <th>mass</th>\n",
       "      <th>fall</th>\n",
       "      <th>year</th>\n",
       "      <th>reclat</th>\n",
       "      <th>reclong</th>\n",
       "      <th>point coordinates</th>\n",
       "    </tr>\n",
       "  </thead>\n",
       "  <tbody>\n",
       "    <tr>\n",
       "      <th>0</th>\n",
       "      <td>Aachen</td>\n",
       "      <td>1</td>\n",
       "      <td>Valid</td>\n",
       "      <td>L5</td>\n",
       "      <td>21</td>\n",
       "      <td>Fell</td>\n",
       "      <td>1880-01-01T00:00:00.000</td>\n",
       "      <td>50.775000</td>\n",
       "      <td>6.083330</td>\n",
       "      <td>[6.08333, 50.775]</td>\n",
       "    </tr>\n",
       "    <tr>\n",
       "      <th>1</th>\n",
       "      <td>Aarhus</td>\n",
       "      <td>2</td>\n",
       "      <td>Valid</td>\n",
       "      <td>H6</td>\n",
       "      <td>720</td>\n",
       "      <td>Fell</td>\n",
       "      <td>1951-01-01T00:00:00.000</td>\n",
       "      <td>56.183330</td>\n",
       "      <td>10.233330</td>\n",
       "      <td>[10.23333, 56.18333]</td>\n",
       "    </tr>\n",
       "    <tr>\n",
       "      <th>2</th>\n",
       "      <td>Abee</td>\n",
       "      <td>6</td>\n",
       "      <td>Valid</td>\n",
       "      <td>EH4</td>\n",
       "      <td>107000</td>\n",
       "      <td>Fell</td>\n",
       "      <td>1952-01-01T00:00:00.000</td>\n",
       "      <td>54.216670</td>\n",
       "      <td>-113.000000</td>\n",
       "      <td>[-113, 54.21667]</td>\n",
       "    </tr>\n",
       "    <tr>\n",
       "      <th>3</th>\n",
       "      <td>Acapulco</td>\n",
       "      <td>10</td>\n",
       "      <td>Valid</td>\n",
       "      <td>Acapulcoite</td>\n",
       "      <td>1914</td>\n",
       "      <td>Fell</td>\n",
       "      <td>1976-01-01T00:00:00.000</td>\n",
       "      <td>16.883330</td>\n",
       "      <td>-99.900000</td>\n",
       "      <td>[-99.9, 16.88333]</td>\n",
       "    </tr>\n",
       "    <tr>\n",
       "      <th>4</th>\n",
       "      <td>Achiras</td>\n",
       "      <td>370</td>\n",
       "      <td>Valid</td>\n",
       "      <td>L6</td>\n",
       "      <td>780</td>\n",
       "      <td>Fell</td>\n",
       "      <td>1902-01-01T00:00:00.000</td>\n",
       "      <td>-33.166670</td>\n",
       "      <td>-64.950000</td>\n",
       "      <td>[-64.95, -33.16667]</td>\n",
       "    </tr>\n",
       "  </tbody>\n",
       "</table>\n",
       "</div>"
      ],
      "text/plain": [
       "       name   id nametype     recclass    mass  fall                     year   \n",
       "0    Aachen    1    Valid           L5      21  Fell  1880-01-01T00:00:00.000  \\\n",
       "1    Aarhus    2    Valid           H6     720  Fell  1951-01-01T00:00:00.000   \n",
       "2      Abee    6    Valid          EH4  107000  Fell  1952-01-01T00:00:00.000   \n",
       "3  Acapulco   10    Valid  Acapulcoite    1914  Fell  1976-01-01T00:00:00.000   \n",
       "4   Achiras  370    Valid           L6     780  Fell  1902-01-01T00:00:00.000   \n",
       "\n",
       "       reclat      reclong     point coordinates  \n",
       "0   50.775000     6.083330     [6.08333, 50.775]  \n",
       "1   56.183330    10.233330  [10.23333, 56.18333]  \n",
       "2   54.216670  -113.000000      [-113, 54.21667]  \n",
       "3   16.883330   -99.900000     [-99.9, 16.88333]  \n",
       "4  -33.166670   -64.950000   [-64.95, -33.16667]  "
      ]
     },
     "execution_count": 25,
     "metadata": {},
     "output_type": "execute_result"
    }
   ],
   "source": [
    "data.head(5)"
   ]
  },
  {
   "cell_type": "code",
   "execution_count": 41,
   "metadata": {},
   "outputs": [],
   "source": [
    "new_column_names = {'name': 'Name of Earth Meteorite','id':'ID of Earth Meteorite','mass':'Mass of Earth Meteorite','year':'Year at which Earth Meteorite was hit'}\n",
    "data = data.rename(columns=new_column_names)"
   ]
  },
  {
   "cell_type": "code",
   "execution_count": 27,
   "metadata": {},
   "outputs": [
    {
     "data": {
      "text/plain": [
       "Index(['Name of Earth Meteorite', 'ID of Earth Meteorite', 'nametype',\n",
       "       'recclass', 'Mass of Earth Meteorite', 'fall',\n",
       "       'Year at which Earth Meteorite was hit', 'reclat', 'reclong',\n",
       "       'point coordinates'],\n",
       "      dtype='object')"
      ]
     },
     "execution_count": 27,
     "metadata": {},
     "output_type": "execute_result"
    }
   ],
   "source": [
    "data.columns"
   ]
  },
  {
   "cell_type": "code",
   "execution_count": null,
   "metadata": {},
   "outputs": [],
   "source": []
  },
  {
   "cell_type": "code",
   "execution_count": 28,
   "metadata": {},
   "outputs": [
    {
     "data": {
      "text/html": [
       "<div>\n",
       "<style scoped>\n",
       "    .dataframe tbody tr th:only-of-type {\n",
       "        vertical-align: middle;\n",
       "    }\n",
       "\n",
       "    .dataframe tbody tr th {\n",
       "        vertical-align: top;\n",
       "    }\n",
       "\n",
       "    .dataframe thead th {\n",
       "        text-align: right;\n",
       "    }\n",
       "</style>\n",
       "<table border=\"1\" class=\"dataframe\">\n",
       "  <thead>\n",
       "    <tr style=\"text-align: right;\">\n",
       "      <th></th>\n",
       "      <th>Name of Earth Meteorite</th>\n",
       "      <th>ID of Earth Meteorite</th>\n",
       "      <th>nametype</th>\n",
       "      <th>recclass</th>\n",
       "      <th>Mass of Earth Meteorite</th>\n",
       "      <th>fall</th>\n",
       "      <th>Year at which Earth Meteorite was hit</th>\n",
       "      <th>reclat</th>\n",
       "      <th>reclong</th>\n",
       "      <th>point coordinates</th>\n",
       "    </tr>\n",
       "  </thead>\n",
       "  <tbody>\n",
       "    <tr>\n",
       "      <th>0</th>\n",
       "      <td>Aachen</td>\n",
       "      <td>1</td>\n",
       "      <td>Valid</td>\n",
       "      <td>L5</td>\n",
       "      <td>21</td>\n",
       "      <td>Fell</td>\n",
       "      <td>1880-01-01T00:00:00.000</td>\n",
       "      <td>50.775000</td>\n",
       "      <td>6.083330</td>\n",
       "      <td>[6.08333, 50.775]</td>\n",
       "    </tr>\n",
       "    <tr>\n",
       "      <th>1</th>\n",
       "      <td>Aarhus</td>\n",
       "      <td>2</td>\n",
       "      <td>Valid</td>\n",
       "      <td>H6</td>\n",
       "      <td>720</td>\n",
       "      <td>Fell</td>\n",
       "      <td>1951-01-01T00:00:00.000</td>\n",
       "      <td>56.183330</td>\n",
       "      <td>10.233330</td>\n",
       "      <td>[10.23333, 56.18333]</td>\n",
       "    </tr>\n",
       "    <tr>\n",
       "      <th>2</th>\n",
       "      <td>Abee</td>\n",
       "      <td>6</td>\n",
       "      <td>Valid</td>\n",
       "      <td>EH4</td>\n",
       "      <td>107000</td>\n",
       "      <td>Fell</td>\n",
       "      <td>1952-01-01T00:00:00.000</td>\n",
       "      <td>54.216670</td>\n",
       "      <td>-113.000000</td>\n",
       "      <td>[-113, 54.21667]</td>\n",
       "    </tr>\n",
       "    <tr>\n",
       "      <th>3</th>\n",
       "      <td>Acapulco</td>\n",
       "      <td>10</td>\n",
       "      <td>Valid</td>\n",
       "      <td>Acapulcoite</td>\n",
       "      <td>1914</td>\n",
       "      <td>Fell</td>\n",
       "      <td>1976-01-01T00:00:00.000</td>\n",
       "      <td>16.883330</td>\n",
       "      <td>-99.900000</td>\n",
       "      <td>[-99.9, 16.88333]</td>\n",
       "    </tr>\n",
       "    <tr>\n",
       "      <th>4</th>\n",
       "      <td>Achiras</td>\n",
       "      <td>370</td>\n",
       "      <td>Valid</td>\n",
       "      <td>L6</td>\n",
       "      <td>780</td>\n",
       "      <td>Fell</td>\n",
       "      <td>1902-01-01T00:00:00.000</td>\n",
       "      <td>-33.166670</td>\n",
       "      <td>-64.950000</td>\n",
       "      <td>[-64.95, -33.16667]</td>\n",
       "    </tr>\n",
       "    <tr>\n",
       "      <th>5</th>\n",
       "      <td>Adhi Kot</td>\n",
       "      <td>379</td>\n",
       "      <td>Valid</td>\n",
       "      <td>EH4</td>\n",
       "      <td>4239</td>\n",
       "      <td>Fell</td>\n",
       "      <td>1919-01-01T00:00:00.000</td>\n",
       "      <td>32.100000</td>\n",
       "      <td>71.800000</td>\n",
       "      <td>[71.8, 32.1]</td>\n",
       "    </tr>\n",
       "    <tr>\n",
       "      <th>6</th>\n",
       "      <td>Adzhi-Bogdo (stone)</td>\n",
       "      <td>390</td>\n",
       "      <td>Valid</td>\n",
       "      <td>LL3-6</td>\n",
       "      <td>910</td>\n",
       "      <td>Fell</td>\n",
       "      <td>1949-01-01T00:00:00.000</td>\n",
       "      <td>44.833330</td>\n",
       "      <td>95.166670</td>\n",
       "      <td>[95.16667, 44.83333]</td>\n",
       "    </tr>\n",
       "    <tr>\n",
       "      <th>7</th>\n",
       "      <td>Agen</td>\n",
       "      <td>392</td>\n",
       "      <td>Valid</td>\n",
       "      <td>H5</td>\n",
       "      <td>30000</td>\n",
       "      <td>Fell</td>\n",
       "      <td>1814-01-01T00:00:00.000</td>\n",
       "      <td>44.216670</td>\n",
       "      <td>0.616670</td>\n",
       "      <td>[0.61667, 44.21667]</td>\n",
       "    </tr>\n",
       "    <tr>\n",
       "      <th>8</th>\n",
       "      <td>Aguada</td>\n",
       "      <td>398</td>\n",
       "      <td>Valid</td>\n",
       "      <td>L6</td>\n",
       "      <td>1620</td>\n",
       "      <td>Fell</td>\n",
       "      <td>1930-01-01T00:00:00.000</td>\n",
       "      <td>-31.600000</td>\n",
       "      <td>-65.233330</td>\n",
       "      <td>[-65.23333, -31.6]</td>\n",
       "    </tr>\n",
       "    <tr>\n",
       "      <th>9</th>\n",
       "      <td>Aguila Blanca</td>\n",
       "      <td>417</td>\n",
       "      <td>Valid</td>\n",
       "      <td>L</td>\n",
       "      <td>1440</td>\n",
       "      <td>Fell</td>\n",
       "      <td>1920-01-01T00:00:00.000</td>\n",
       "      <td>-30.866670</td>\n",
       "      <td>-64.550000</td>\n",
       "      <td>[-64.55, -30.86667]</td>\n",
       "    </tr>\n",
       "  </tbody>\n",
       "</table>\n",
       "</div>"
      ],
      "text/plain": [
       "  Name of Earth Meteorite ID of Earth Meteorite nametype     recclass   \n",
       "0                  Aachen                     1    Valid           L5  \\\n",
       "1                  Aarhus                     2    Valid           H6   \n",
       "2                    Abee                     6    Valid          EH4   \n",
       "3                Acapulco                    10    Valid  Acapulcoite   \n",
       "4                 Achiras                   370    Valid           L6   \n",
       "5                Adhi Kot                   379    Valid          EH4   \n",
       "6     Adzhi-Bogdo (stone)                   390    Valid        LL3-6   \n",
       "7                    Agen                   392    Valid           H5   \n",
       "8                  Aguada                   398    Valid           L6   \n",
       "9           Aguila Blanca                   417    Valid            L   \n",
       "\n",
       "  Mass of Earth Meteorite  fall Year at which Earth Meteorite was hit   \n",
       "0                      21  Fell               1880-01-01T00:00:00.000  \\\n",
       "1                     720  Fell               1951-01-01T00:00:00.000   \n",
       "2                  107000  Fell               1952-01-01T00:00:00.000   \n",
       "3                    1914  Fell               1976-01-01T00:00:00.000   \n",
       "4                     780  Fell               1902-01-01T00:00:00.000   \n",
       "5                    4239  Fell               1919-01-01T00:00:00.000   \n",
       "6                     910  Fell               1949-01-01T00:00:00.000   \n",
       "7                   30000  Fell               1814-01-01T00:00:00.000   \n",
       "8                    1620  Fell               1930-01-01T00:00:00.000   \n",
       "9                    1440  Fell               1920-01-01T00:00:00.000   \n",
       "\n",
       "       reclat      reclong     point coordinates  \n",
       "0   50.775000     6.083330     [6.08333, 50.775]  \n",
       "1   56.183330    10.233330  [10.23333, 56.18333]  \n",
       "2   54.216670  -113.000000      [-113, 54.21667]  \n",
       "3   16.883330   -99.900000     [-99.9, 16.88333]  \n",
       "4  -33.166670   -64.950000   [-64.95, -33.16667]  \n",
       "5   32.100000    71.800000          [71.8, 32.1]  \n",
       "6   44.833330    95.166670  [95.16667, 44.83333]  \n",
       "7   44.216670     0.616670   [0.61667, 44.21667]  \n",
       "8  -31.600000   -65.233330    [-65.23333, -31.6]  \n",
       "9  -30.866670   -64.550000   [-64.55, -30.86667]  "
      ]
     },
     "execution_count": 28,
     "metadata": {},
     "output_type": "execute_result"
    }
   ],
   "source": [
    "data.head(10)"
   ]
  },
  {
   "cell_type": "code",
   "execution_count": 42,
   "metadata": {},
   "outputs": [],
   "source": [
    "data = data.drop(['fall'],axis=1)"
   ]
  },
  {
   "cell_type": "code",
   "execution_count": 43,
   "metadata": {},
   "outputs": [
    {
     "data": {
      "text/html": [
       "<div>\n",
       "<style scoped>\n",
       "    .dataframe tbody tr th:only-of-type {\n",
       "        vertical-align: middle;\n",
       "    }\n",
       "\n",
       "    .dataframe tbody tr th {\n",
       "        vertical-align: top;\n",
       "    }\n",
       "\n",
       "    .dataframe thead th {\n",
       "        text-align: right;\n",
       "    }\n",
       "</style>\n",
       "<table border=\"1\" class=\"dataframe\">\n",
       "  <thead>\n",
       "    <tr style=\"text-align: right;\">\n",
       "      <th></th>\n",
       "      <th>Name of Earth Meteorite</th>\n",
       "      <th>ID of Earth Meteorite</th>\n",
       "      <th>nametype</th>\n",
       "      <th>recclass</th>\n",
       "      <th>Mass of Earth Meteorite</th>\n",
       "      <th>Year at which Earth Meteorite was hit</th>\n",
       "      <th>reclat</th>\n",
       "      <th>reclong</th>\n",
       "      <th>point coordinates</th>\n",
       "    </tr>\n",
       "  </thead>\n",
       "  <tbody>\n",
       "    <tr>\n",
       "      <th>0</th>\n",
       "      <td>Aachen</td>\n",
       "      <td>1</td>\n",
       "      <td>Valid</td>\n",
       "      <td>L5</td>\n",
       "      <td>21</td>\n",
       "      <td>1880-01-01T00:00:00.000</td>\n",
       "      <td>50.775000</td>\n",
       "      <td>6.083330</td>\n",
       "      <td>[6.08333, 50.775]</td>\n",
       "    </tr>\n",
       "    <tr>\n",
       "      <th>1</th>\n",
       "      <td>Aarhus</td>\n",
       "      <td>2</td>\n",
       "      <td>Valid</td>\n",
       "      <td>H6</td>\n",
       "      <td>720</td>\n",
       "      <td>1951-01-01T00:00:00.000</td>\n",
       "      <td>56.183330</td>\n",
       "      <td>10.233330</td>\n",
       "      <td>[10.23333, 56.18333]</td>\n",
       "    </tr>\n",
       "    <tr>\n",
       "      <th>2</th>\n",
       "      <td>Abee</td>\n",
       "      <td>6</td>\n",
       "      <td>Valid</td>\n",
       "      <td>EH4</td>\n",
       "      <td>107000</td>\n",
       "      <td>1952-01-01T00:00:00.000</td>\n",
       "      <td>54.216670</td>\n",
       "      <td>-113.000000</td>\n",
       "      <td>[-113, 54.21667]</td>\n",
       "    </tr>\n",
       "  </tbody>\n",
       "</table>\n",
       "</div>"
      ],
      "text/plain": [
       "  Name of Earth Meteorite ID of Earth Meteorite nametype recclass   \n",
       "0                  Aachen                     1    Valid       L5  \\\n",
       "1                  Aarhus                     2    Valid       H6   \n",
       "2                    Abee                     6    Valid      EH4   \n",
       "\n",
       "  Mass of Earth Meteorite Year at which Earth Meteorite was hit     reclat   \n",
       "0                      21               1880-01-01T00:00:00.000  50.775000  \\\n",
       "1                     720               1951-01-01T00:00:00.000  56.183330   \n",
       "2                  107000               1952-01-01T00:00:00.000  54.216670   \n",
       "\n",
       "       reclong     point coordinates  \n",
       "0     6.083330     [6.08333, 50.775]  \n",
       "1    10.233330  [10.23333, 56.18333]  \n",
       "2  -113.000000      [-113, 54.21667]  "
      ]
     },
     "execution_count": 43,
     "metadata": {},
     "output_type": "execute_result"
    }
   ],
   "source": [
    "data.head(3)"
   ]
  },
  {
   "cell_type": "code",
   "execution_count": 44,
   "metadata": {},
   "outputs": [
    {
     "name": "stdout",
     "output_type": "stream",
     "text": [
      "<class 'pandas.core.frame.DataFrame'>\n",
      "RangeIndex: 1000 entries, 0 to 999\n",
      "Data columns (total 9 columns):\n",
      " #   Column                                 Non-Null Count  Dtype \n",
      "---  ------                                 --------------  ----- \n",
      " 0   Name of Earth Meteorite                1000 non-null   object\n",
      " 1   ID of Earth Meteorite                  1000 non-null   object\n",
      " 2   nametype                               1000 non-null   object\n",
      " 3   recclass                               1000 non-null   object\n",
      " 4   Mass of Earth Meteorite                972 non-null    object\n",
      " 5   Year at which Earth Meteorite was hit  999 non-null    object\n",
      " 6   reclat                                 988 non-null    object\n",
      " 7   reclong                                988 non-null    object\n",
      " 8   point coordinates                      988 non-null    object\n",
      "dtypes: object(9)\n",
      "memory usage: 70.4+ KB\n"
     ]
    }
   ],
   "source": [
    "data.info()"
   ]
  },
  {
   "cell_type": "code",
   "execution_count": 55,
   "metadata": {},
   "outputs": [
    {
     "data": {
      "text/plain": [
       "False"
      ]
     },
     "execution_count": 55,
     "metadata": {},
     "output_type": "execute_result"
    }
   ],
   "source": [
    "data['Name of Earth Meteorite'].dtype=='str'"
   ]
  },
  {
   "cell_type": "code",
   "execution_count": 45,
   "metadata": {},
   "outputs": [],
   "source": [
    "data['Name of Earth Meteorite'] = data['Name of Earth Meteorite'].astype(str)"
   ]
  },
  {
   "cell_type": "code",
   "execution_count": 53,
   "metadata": {},
   "outputs": [
    {
     "data": {
      "text/plain": [
       "Name of Earth Meteorite\n",
       "Aachen             1\n",
       "Nakhon Pathom      1\n",
       "Mtola              1\n",
       "Muddoor            1\n",
       "Mulletiwu          1\n",
       "                  ..\n",
       "Grimsby            1\n",
       "Grosnaja           1\n",
       "Gross-Divina       1\n",
       "Grossliebenthal    1\n",
       "Tomakovka          1\n",
       "Name: count, Length: 1000, dtype: int64"
      ]
     },
     "execution_count": 53,
     "metadata": {},
     "output_type": "execute_result"
    }
   ],
   "source": [
    "data['Name of Earth Meteorite'].value_counts()"
   ]
  },
  {
   "cell_type": "code",
   "execution_count": 56,
   "metadata": {},
   "outputs": [],
   "source": [
    "data['nametype'] = data['nametype'].astype(str)"
   ]
  },
  {
   "cell_type": "code",
   "execution_count": 57,
   "metadata": {},
   "outputs": [
    {
     "data": {
      "text/plain": [
       "dtype('O')"
      ]
     },
     "execution_count": 57,
     "metadata": {},
     "output_type": "execute_result"
    }
   ],
   "source": [
    "data['nametype'].dtypes"
   ]
  },
  {
   "cell_type": "code",
   "execution_count": 47,
   "metadata": {},
   "outputs": [],
   "source": [
    "data['Mass of Earth Meteorite']=data['Mass of Earth Meteorite'].astype(float)"
   ]
  },
  {
   "cell_type": "code",
   "execution_count": 58,
   "metadata": {},
   "outputs": [
    {
     "name": "stdout",
     "output_type": "stream",
     "text": [
      "<class 'pandas.core.frame.DataFrame'>\n",
      "RangeIndex: 1000 entries, 0 to 999\n",
      "Data columns (total 9 columns):\n",
      " #   Column                                 Non-Null Count  Dtype  \n",
      "---  ------                                 --------------  -----  \n",
      " 0   Name of Earth Meteorite                1000 non-null   object \n",
      " 1   ID of Earth Meteorite                  1000 non-null   object \n",
      " 2   nametype                               1000 non-null   object \n",
      " 3   recclass                               1000 non-null   object \n",
      " 4   Mass of Earth Meteorite                972 non-null    float64\n",
      " 5   Year at which Earth Meteorite was hit  999 non-null    object \n",
      " 6   reclat                                 988 non-null    object \n",
      " 7   reclong                                988 non-null    object \n",
      " 8   point coordinates                      988 non-null    object \n",
      "dtypes: float64(1), object(8)\n",
      "memory usage: 70.4+ KB\n"
     ]
    }
   ],
   "source": [
    "data.info()"
   ]
  },
  {
   "cell_type": "code",
   "execution_count": 74,
   "metadata": {},
   "outputs": [
    {
     "data": {
      "text/plain": [
       "name                  0\n",
       "id                    0\n",
       "nametype              0\n",
       "recclass              0\n",
       "mass                 28\n",
       "fall                  0\n",
       "year                  1\n",
       "reclat               12\n",
       "reclong              12\n",
       "point_coordinates    12\n",
       "dtype: int64"
      ]
     },
     "execution_count": 74,
     "metadata": {},
     "output_type": "execute_result"
    }
   ],
   "source": [
    "data.isnull().sum()"
   ]
  },
  {
   "cell_type": "code",
   "execution_count": 57,
   "metadata": {},
   "outputs": [
    {
     "name": "stdout",
     "output_type": "stream",
     "text": [
      "<class 'pandas.core.frame.DataFrame'>\n",
      "RangeIndex: 1000 entries, 0 to 999\n",
      "Data columns (total 10 columns):\n",
      " #   Column                   Non-Null Count  Dtype \n",
      "---  ------                   --------------  ----- \n",
      " 0   Name of Earth Meteorite  1000 non-null   object\n",
      " 1   id                       1000 non-null   object\n",
      " 2   Meteorite                0 non-null      object\n",
      " 3   nametype                 1000 non-null   object\n",
      " 4   recclass                 1000 non-null   object\n",
      " 5   mass                     0 non-null      object\n",
      " 6   year                     999 non-null    object\n",
      " 7   reclat                   988 non-null    object\n",
      " 8   reclong                  988 non-null    object\n",
      " 9   point_coordinates        0 non-null      object\n",
      "dtypes: object(10)\n",
      "memory usage: 78.2+ KB\n"
     ]
    }
   ],
   "source": [
    "df.info()"
   ]
  },
  {
   "cell_type": "code",
   "execution_count": 58,
   "metadata": {},
   "outputs": [
    {
     "data": {
      "text/plain": [
       "Name of Earth Meteorite       0\n",
       "id                            0\n",
       "Meteorite                  1000\n",
       "nametype                      0\n",
       "recclass                      0\n",
       "mass                       1000\n",
       "year                          1\n",
       "reclat                       12\n",
       "reclong                      12\n",
       "point_coordinates          1000\n",
       "dtype: int64"
      ]
     },
     "execution_count": 58,
     "metadata": {},
     "output_type": "execute_result"
    }
   ],
   "source": [
    "df.isnull().sum()"
   ]
  },
  {
   "cell_type": "code",
   "execution_count": null,
   "metadata": {},
   "outputs": [],
   "source": []
  }
 ],
 "metadata": {
  "kernelspec": {
   "display_name": "Python 3.8.10 64-bit",
   "language": "python",
   "name": "python3"
  },
  "language_info": {
   "codemirror_mode": {
    "name": "ipython",
    "version": 3
   },
   "file_extension": ".py",
   "mimetype": "text/x-python",
   "name": "python",
   "nbconvert_exporter": "python",
   "pygments_lexer": "ipython3",
   "version": "3.8.10"
  },
  "orig_nbformat": 4,
  "vscode": {
   "interpreter": {
    "hash": "e7370f93d1d0cde622a1f8e1c04877d8463912d04d973331ad4851f04de6915a"
   }
  }
 },
 "nbformat": 4,
 "nbformat_minor": 2
}
