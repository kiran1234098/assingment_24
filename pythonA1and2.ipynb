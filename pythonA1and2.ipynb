{
 "cells": [
  {
   "cell_type": "markdown",
   "metadata": {},
   "source": [
    "Question 1: -\n",
    "Write a program that takes a string as input, and counts the frequency of each word in the string, there might\n",
    "be repeated characters in the string. Your task is to find the highest frequency and returns the length of the\n",
    "highest-frequency word.\n",
    "\n",
    "Note - You have to write at least 2 additional test cases in which your program will run successfully and provide\n",
    "an explanation for the same.\n",
    "Example input - string = “write write write all the number from from from 1 to 100”\n",
    "Example output - 5\n",
    "Explanation - From the given string we can note that the most frequent words are “write” and “from” and\n",
    "the maximum value of both the values is “write” and its corresponding length is 5"
   ]
  },
  {
   "cell_type": "code",
   "execution_count": 1,
   "metadata": {},
   "outputs": [
    {
     "name": "stdout",
     "output_type": "stream",
     "text": [
      "5\n"
     ]
    }
   ],
   "source": [
    "def find_highest_frequency_word_length(string):\n",
    "    # Split the string into words\n",
    "    words = string.split()\n",
    "\n",
    "    # Count the frequency of each word\n",
    "    word_freq = {}\n",
    "    for word in words:\n",
    "        word_freq[word] = word_freq.get(word, 0) + 1\n",
    "\n",
    "    # Find the highest frequency\n",
    "    max_freq = max(word_freq.values())\n",
    "\n",
    "    # Find the length of the word with the highest frequency\n",
    "    max_freq_word_length = max(len(word) for word, freq in word_freq.items() if freq == max_freq)\n",
    "\n",
    "    return max_freq_word_length\n",
    "\n",
    "# Test the function with the given example\n",
    "string = \"write write write all the number from from from 1 to 100\"\n",
    "output = find_highest_frequency_word_length(string)\n",
    "print(output)  # Output: 5\n"
   ]
  },
  {
   "cell_type": "code",
   "execution_count": 2,
   "metadata": {},
   "outputs": [
    {
     "name": "stdout",
     "output_type": "stream",
     "text": [
      "5\n"
     ]
    }
   ],
   "source": [
    "string = \"apple orange apple orange apple apple\"\n",
    "output = find_highest_frequency_word_length(string)\n",
    "print(output)  # Output: 6\n"
   ]
  },
  {
   "cell_type": "code",
   "execution_count": 3,
   "metadata": {},
   "outputs": [
    {
     "name": "stdout",
     "output_type": "stream",
     "text": [
      "1\n"
     ]
    }
   ],
   "source": [
    "string = \"a a a a b b b c c d e\"\n",
    "output = find_highest_frequency_word_length(string)\n",
    "print(output)  # Output: 1\n"
   ]
  },
  {
   "cell_type": "markdown",
   "metadata": {},
   "source": [
    "Question 2: -\n",
    "Consider a string to be valid if all characters of the string appear the same number of times. It is also valid if\n",
    "he can remove just one character at the index in the string, and the remaining characters will occur the same\n",
    "number of times. Given a string, determine if it is valid. If so, return YES , otherwise return NO .\n",
    "\n",
    "Note - You have to write at least 2 additional test cases in which your program will run successfully and provide\n",
    "an explanation for the same.\n",
    "Example input 1 - s = “abc”. This is a valid string because frequencies are { “a”: 1, “b”: 1, “c”: 1 }\n",
    "Example output 1- YES\n",
    "Example input 2 - s “abcc”. This string is not valid as we can remove only 1 occurrence of “c”. That leaves\n",
    "character frequencies of { “a”: 1, “b”: 1 , “c”: 2 }\n",
    "Example output 2 - NO"
   ]
  },
  {
   "cell_type": "code",
   "execution_count": 12,
   "metadata": {},
   "outputs": [
    {
     "name": "stdout",
     "output_type": "stream",
     "text": [
      "YES\n",
      "NO\n",
      "NO\n",
      "NO\n"
     ]
    }
   ],
   "source": [
    "from collections import Counter\n",
    "\n",
    "def is_valid_string(s):\n",
    "    # Count the frequency of each character\n",
    "    char_freq = Counter(s)\n",
    "\n",
    "    # Find the frequencies of the characters\n",
    "    frequencies = list(char_freq.values())\n",
    "    unique_freq = set(frequencies)\n",
    "\n",
    "    # If all characters have the same frequency, it's valid\n",
    "    if len(unique_freq) == 1:\n",
    "        return \"YES\"\n",
    "\n",
    "    # If there are exactly two unique frequencies\n",
    "    if len(unique_freq) == 2:\n",
    "        freq_list = list(unique_freq)\n",
    "        min_freq = min(freq_list)\n",
    "        max_freq = max(freq_list)\n",
    "        min_count = frequencies.count(min_freq)\n",
    "        max_count = frequencies.count(max_freq)\n",
    "        \n",
    "        # If one frequency occurs only once and removing one character of that frequency makes the string valid\n",
    "        if (min_count == 1 and min_freq == 1) or (max_count == 1 and max_freq == 1):\n",
    "            return \"YES\"\n",
    "\n",
    "    # If none of the conditions are met, it's not valid\n",
    "    return \"NO\"\n",
    "\n",
    "# Test the function with the given examples\n",
    "s1 = \"abc\"\n",
    "output1 = is_valid_string(s1)\n",
    "print(output1)  # Output: YES\n",
    "\n",
    "s2 = \"abcc\"\n",
    "output2 = is_valid_string(s2)\n",
    "print(output2)  # Output: NO\n",
    "\n",
    "# Additional test cases\n",
    "s3 = \"aabbbccc\"\n",
    "output3 = is_valid_string(s3)\n",
    "print(output3)  # Output: NO\n",
    "\n",
    "s4 = \"aabbbcccc\"\n",
    "output4 = is_valid_string(s4)\n",
    "print(output4)  # Output: NO\n"
   ]
  }
 ],
 "metadata": {
  "kernelspec": {
   "display_name": "Python 3.8.10 64-bit",
   "language": "python",
   "name": "python3"
  },
  "language_info": {
   "codemirror_mode": {
    "name": "ipython",
    "version": 3
   },
   "file_extension": ".py",
   "mimetype": "text/x-python",
   "name": "python",
   "nbconvert_exporter": "python",
   "pygments_lexer": "ipython3",
   "version": "3.8.10"
  },
  "orig_nbformat": 4,
  "vscode": {
   "interpreter": {
    "hash": "e7370f93d1d0cde622a1f8e1c04877d8463912d04d973331ad4851f04de6915a"
   }
  }
 },
 "nbformat": 4,
 "nbformat_minor": 2
}
